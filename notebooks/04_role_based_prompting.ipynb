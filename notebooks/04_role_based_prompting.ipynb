{
 "cells": [
  {
   "cell_type": "code",
   "execution_count": 1,
   "metadata": {},
   "outputs": [],
   "source": [
    "from utils.openai_client import OpenAIClient\n",
    "\n",
    "# Get OpenAI client instance\n",
    "client = OpenAIClient().get_client()\n",
    "\n",
    "# Example: Role-Based Prompting for Customer Support Scenario\n",
    "def role_based_prompt(prompt):\n",
    "    examples = [\n",
    "        {\n",
    "            \"role\": \"system\",\n",
    "            \"content\": (\n",
    "                \"You are a helpful customer support representative. \\n\"\n",
    "                \"Provide clear and professional responses to customer inquiries.\"\n",
    "            )\n",
    "        },\n",
    "        {\n",
    "            \"role\": \"user\",\n",
    "            \"content\": (\n",
    "                \"A customer says: 'I received the wrong item in my order. \\n\"\n",
    "                \"How can I get a replacement?'\"\n",
    "            )\n",
    "        },\n",
    "        {\n",
    "            \"role\": \"assistant\",\n",
    "            \"content\": (\n",
    "                \"I’m sorry for the mix-up! You can request a replacement \\n\"\n",
    "                \"by visiting your order history and selecting 'Request Replacement'. \\n\"\n",
    "                \"Alternatively, I can assist you with the process now. Let me know how you'd like to proceed!\"\n",
    "            )\n",
    "        },\n",
    "        {\n",
    "            \"role\": \"user\",\n",
    "            \"content\": prompt\n",
    "        }\n",
    "    ]\n",
    "    \n",
    "    response = client.chat.completions.create(\n",
    "        model=\"gpt-4\",\n",
    "        messages=examples\n",
    "    )\n",
    "    return response.choices[0].message.content\n"
   ]
  },
  {
   "cell_type": "code",
   "execution_count": 2,
   "metadata": {},
   "outputs": [
    {
     "name": "stdout",
     "output_type": "stream",
     "text": [
      "I'm sorry to hear that you're having trouble resetting your password. Let me guide you through an alternative process.\n",
      "\n",
      "Here are the steps:\n",
      "\n",
      "1. Go to the Login page.\n",
      "2. Click on the link that says 'Forgot Password'.\n",
      "3. Fill in your email address associated with the account.\n",
      "4. Wait for the reset link to be sent to your email address. \n",
      "\n",
      "If you still have trouble, please confirm your email and I'll facilitate the reset for you from my end. Rest assured, I'm here to help!\n"
     ]
    }
   ],
   "source": [
    "# Handling a new customer support inquiry\n",
    "test_support = (\n",
    "    \"A customer says: 'I need help resetting my password. \\n\"\n",
    "    \"I tried the reset link, but it didn't work.'\"\n",
    ")\n",
    "print(role_based_prompt(test_support))"
   ]
  },
  {
   "cell_type": "code",
   "execution_count": 4,
   "metadata": {},
   "outputs": [
    {
     "name": "stdout",
     "output_type": "stream",
     "text": [
      "Absolutely, happy to assist you with that. Below are some examples for different types of merges in pandas:\n",
      "\n",
      "1. Inner Merge/Joint: This will return only the common values in both the left and right dataframes.\n",
      "\n",
      "```python\n",
      "import pandas as pd\n",
      "\n",
      "left_data = {'key': ['K0', 'K1', 'K2', 'K3'],\n",
      "             'left_a': ['A0', 'A1', 'A2', 'A3'],\n",
      "             'left_b': ['B0', 'B1', 'B2', 'B3']}\n",
      "left = pd.DataFrame(left_data)\n",
      "\n",
      "right_data = {'key': ['K0', 'K1', 'K2', 'K3'],\n",
      "              'right_a': ['A0', 'A1', 'A2', 'A3'],\n",
      "              'right_b': ['B0', 'B1', 'B2', 'B3']}\n",
      "right = pd.DataFrame(right_data)\n",
      "\n",
      "merge_inner = pd.merge(left, right, how='inner', on='key')\n",
      "print(merge_inner)\n",
      "```\n",
      "\n",
      "2. Outer Merge/Full Outer Join: This will return all the records when there is a match in either left or right dataframe.\n",
      "\n",
      "```python\n",
      "merge_outer = pd.merge(left, right, how='outer', on='key')\n",
      "print(merge_outer)\n",
      "```\n",
      "\n",
      "3. Left Merge/Left outer join: This will return all the records from the left dataframe and the matched records from the right dataframe.\n",
      "\n",
      "```python\n",
      "merge_left = pd.merge(left, right, how='left', on='key')\n",
      "print(merge_left)\n",
      "```\n",
      "\n",
      "4. Right Merge/Right outer join: This will return all the records from the right dataframe and the matched records from the left dataframe.\n",
      "\n",
      "```python\n",
      "merge_right = pd.merge(left, right, how='right', on='key')\n",
      "print(merge_right)\n",
      "```\n",
      "\n",
      "Each merge type is suited to a different use case, depending on the nature of the data you are working with. I hope this helps! Let me know if you have any other queries.\n"
     ]
    }
   ],
   "source": [
    "# Acting as a career coach\n",
    "test_coach = (\n",
    "    \"You are a expert python programmer. \\n\"\n",
    "    \"User asks: 'Write example code for Python to demostrate different merge types in pandas'\"\n",
    ")\n",
    "print(role_based_prompt(test_coach))"
   ]
  }
 ],
 "metadata": {
  "kernelspec": {
   "display_name": "Python 3",
   "language": "python",
   "name": "python3"
  },
  "language_info": {
   "codemirror_mode": {
    "name": "ipython",
    "version": 3
   },
   "file_extension": ".py",
   "mimetype": "text/x-python",
   "name": "python",
   "nbconvert_exporter": "python",
   "pygments_lexer": "ipython3",
   "version": "3.12.4"
  }
 },
 "nbformat": 4,
 "nbformat_minor": 2
}
