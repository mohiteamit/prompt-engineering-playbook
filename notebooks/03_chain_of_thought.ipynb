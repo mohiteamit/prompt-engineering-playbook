{
 "cells": [
  {
   "cell_type": "code",
   "execution_count": 1,
   "metadata": {},
   "outputs": [],
   "source": [
    "from utils.openai_client import OpenAIClient\n",
    "\n",
    "# Get OpenAI client instance\n",
    "client = OpenAIClient().get_client()\n",
    "\n",
    "# Example: Chain-of-Thought for solving math problems step by step\n",
    "def chain_of_thought_prompt(prompt):\n",
    "    examples = [\n",
    "        {\n",
    "            \"role\": \"user\",\n",
    "            \"content\": (\n",
    "                \"Solve the following math problem step by step: \\n\"\n",
    "                \"A farmer has 3 fields. Each field has 4 apple trees. \\n\"\n",
    "                \"Each tree produces 25 apples. \\n\"\n",
    "                \"How many apples does the farmer have in total?\"\n",
    "            )\n",
    "        },\n",
    "        {\n",
    "            \"role\": \"assistant\",\n",
    "            \"content\": (\n",
    "                \"Step 1: The farmer has 3 fields, each with 4 trees. \\n\"\n",
    "                \"That means the total number of trees is 3 × 4 = 12.\\n\"\n",
    "                \"Step 2: Each tree produces 25 apples, \\n\"\n",
    "                \"so the total number of apples is 12 × 25 = 300.\\n\"\n",
    "                \"Final Answer: 300 apples.\"\n",
    "            )\n",
    "        },\n",
    "        {\n",
    "            \"role\": \"user\",\n",
    "            \"content\": prompt\n",
    "        }\n",
    "    ]\n",
    "    \n",
    "    response = client.chat.completions.create(\n",
    "        model=\"gpt-4\",\n",
    "        messages=examples\n",
    "    )\n",
    "    return response.choices[0].message.content\n"
   ]
  },
  {
   "cell_type": "code",
   "execution_count": 2,
   "metadata": {},
   "outputs": [
    {
     "name": "stdout",
     "output_type": "stream",
     "text": [
      "Step 1: The bakery bakes 6 batches of cookies daily, each containing 8 cookies. \n",
      "So, the total number of cookies baked daily is 6 × 8 = 48.\n",
      "Step 2: There are 7 days in a week, \n",
      "so the total number of cookies baked in a week is 48 × 7 = 336.\n",
      "Final answer: 336 cookies.\n"
     ]
    }
   ],
   "source": [
    "# Solving a new math problem step by step\n",
    "test_problem = (\n",
    "    \"Solve the following math problem step by step: \\n\"\n",
    "    \"A bakery bakes 6 batches of cookies daily. \\n\"\n",
    "    \"Each batch contains 8 cookies. \\n\"\n",
    "    \"How many cookies are baked in a week?\"\n",
    ")\n",
    "print(chain_of_thought_prompt(test_problem))    "
   ]
  },
  {
   "cell_type": "code",
   "execution_count": 3,
   "metadata": {},
   "outputs": [
    {
     "name": "stdout",
     "output_type": "stream",
     "text": [
      "Step 1: Record the Complaint\n",
      "The first step is to take detailed notes on the customer's issue - their internet disconnects every evening around 8 PM. Noted that restarting the router sometimes helps but not always.\n",
      "\n",
      "Step 2: Confirm the Details\n",
      "Ask the customer any follow-up questions needed to understand the issue better. Key information includes the type of internet connection, the model of the router, if any other devices are affected and what activities are they doing when the connection drops.\n",
      "\n",
      "Step 3: Timing/Interference Investigation\n",
      "Since the problem seems to occur around a specific time, it's possible it could be related to increased traffic from others using the internet during that time, appliances causing electromagnetic interference, or even scheduled processes (like updates) running on their device. Ask if there are any notable patterns or changes around this time.\n",
      "\n",
      "Step 4: Performance Check\n",
      "Guide the customer through running a speed test (using websites like speedtest.net). This process should preferably be done when the internet connection is stable and when the issue arises, to compare.\n",
      "\n",
      "Step 5: Router/Modem Diagnostics \n",
      "Guiding the customer to check for any unusual lights on the router can help identify any abnormalities. Also, suggesting them to try another Ethernet cable or another port could help rule out any hardware issues.\n",
      "\n",
      "Step 6: Contact the Internet Service Provider (ISP)\n",
      "If steps 1-5 did not identify or resolve the issue, the customer should be directed to their ISP. The ISP can check for issues on their end, like problems with the line or scheduled maintenance.\n",
      "\n",
      "Step 7: Router or Device Error\n",
      "If all previous steps have not yielded a solution, it could be a specific issue with the router or the device. In this case, they should consider resetting the router to its factory settings, getting a new router, or having their device checked for any internal issues.\n",
      "\n"
     ]
    }
   ],
   "source": [
    "# Analyzing a customer complaint logically\n",
    "test_complaint = (\n",
    "    \"Analyze the following customer complaint step by step: \\n\"\n",
    "    \"A customer reports that their internet connection keeps dropping \\n\"\n",
    "    \"every evening around 8 PM. \\n\"\n",
    "    \"They mention that restarting the router sometimes helps, but not always. \\n\"\n",
    "    \"How should technical support diagnose the issue systematically?\"\n",
    ")\n",
    "print(chain_of_thought_prompt(test_complaint))"
   ]
  },
  {
   "cell_type": "code",
   "execution_count": 4,
   "metadata": {},
   "outputs": [
    {
     "name": "stdout",
     "output_type": "stream",
     "text": [
      "Bubble Sort:\n",
      "\n",
      "Bubble sort is a simple sorting algorithm that iteratively steps through the list to be sorted, compares each pair of adjacent items, and swaps them if they are in the wrong order. The pass through the list is repeated until the list is sorted. \n",
      "\n",
      "Steps for Bubble Sort:\n",
      "1. Compare the first and second elements in the list.\n",
      "2. If the first element is larger than the second, swap them.\n",
      "3. Go to the next pair, compare and swap if necessary.\n",
      "4. Continue this process until you go through the entire list without needing to make any swaps.\n",
      "\n",
      "The main advantage of bubble sort is its simplicity. It is an ideal algorithm for small data sets and for teaching purposes. However, bubble sort is inefficient for larger lists, and seldom used in practice. The time complexity is O(n^2) in the worst and average case.\n",
      "\n",
      "Quick Sort:\n",
      "\n",
      "Quick sort is a highly efficient sorting algorithm that uses a divide and conquer strategy. \n",
      "\n",
      "Steps for Quick Sort:\n",
      "1. Choose an element from the list as a \"pivot\". (Typically the last element).\n",
      "2. Partitioning: Reorder the array so that all elements with values less than the pivot come before the pivot, while all elements with values greater come after it (equal values can go either way). After this partitioning, the pivot is in its final position.\n",
      "3. Recursively apply these steps to the sub-array of elements with smaller values and the sub-array of elements with greater values.\n",
      "\n",
      "Quick Sort is more efficient than Bubble Sort and it is commonly used in practice. The average and best-case time complexity is O(n log n), with worst-case time complexity of O(n^2). The worst case is not common and can be avoided with certain pivot choosing techniques.\n",
      "\n",
      "In terms of efficiency:\n",
      "\n",
      "- Quick Sort generally performs better than Bubble Sort as it has an average case time complexity of O(n log n) compared to Bubble Sort’s O(n^2).\n",
      "- Quick Sort also requires less memory than Bubble Sort since it’s an in-place sorting algorithm.\n",
      "\n",
      "When to use each:\n",
      "\n",
      "- Bubble Sort is best used when you're dealing with a small data set or if you know the data is nearly sorted. It's also useful for teaching purposes, as it's easier to understand.\n",
      "- Quick Sort would be the choice for larger data sets and in the vast majority of practical use cases.\n"
     ]
    }
   ],
   "source": [
    "# Explaining Bubble Sort and Quick Sort step by step\n",
    "test_sorting = (\n",
    "    \"Explain the Bubble Sort and Quick Sort algorithms step by step, \\n\"\n",
    "    \"including how they compare in terms of efficiency \\n\"\n",
    "    \"and when to use each one.\"\n",
    ")\n",
    "print(chain_of_thought_prompt(test_sorting))"
   ]
  }
 ],
 "metadata": {
  "kernelspec": {
   "display_name": "Python 3",
   "language": "python",
   "name": "python3"
  },
  "language_info": {
   "codemirror_mode": {
    "name": "ipython",
    "version": 3
   },
   "file_extension": ".py",
   "mimetype": "text/x-python",
   "name": "python",
   "nbconvert_exporter": "python",
   "pygments_lexer": "ipython3",
   "version": "3.12.4"
  }
 },
 "nbformat": 4,
 "nbformat_minor": 2
}
