{
 "cells": [
  {
   "cell_type": "code",
   "execution_count": 1,
   "metadata": {},
   "outputs": [],
   "source": [
    "from utils.openai_client import OpenAIClient\n",
    "\n",
    "# Get OpenAI client instance\n",
    "client = OpenAIClient().get_client()\n",
    "\n",
    "# Example: Few-shot prompting\n",
    "def few_shot_prompt(prompt):\n",
    "    examples = [\n",
    "        {\"role\": \"user\", \"content\": \"Classify the following movie: 'A spaceship crew explores the depths of the universe and encounters an alien civilization.'\"},\n",
    "        {\"role\": \"assistant\", \"content\": \"Science Fiction\"},\n",
    "        {\"role\": \"user\", \"content\": \"Classify the following movie: 'A detective solves a complex murder mystery in 19th century London.'\"},\n",
    "        {\"role\": \"assistant\", \"content\": \"Mystery/Thriller\"},\n",
    "        {\"role\": \"user\", \"content\": prompt}\n",
    "    ]\n",
    "    \n",
    "    response = client.chat.completions.create(\n",
    "        model=\"gpt-4\",\n",
    "        messages=examples\n",
    "    )\n",
    "    return response.choices[0].message.content"
   ]
  },
  {
   "cell_type": "code",
   "execution_count": 2,
   "metadata": {},
   "outputs": [
    {
     "name": "stdout",
     "output_type": "stream",
     "text": [
      "Fantasy\n"
     ]
    }
   ],
   "source": [
    "test_movie = \"\"\"Classify the following movie: \n",
    "    'A young wizard attends a magical school and battles a dark sorcerer.'\n",
    "\"\"\"\n",
    "print(few_shot_prompt(test_movie))"
   ]
  }
 ],
 "metadata": {
  "kernelspec": {
   "display_name": "Python 3",
   "language": "python",
   "name": "python3"
  },
  "language_info": {
   "codemirror_mode": {
    "name": "ipython",
    "version": 3
   },
   "file_extension": ".py",
   "mimetype": "text/x-python",
   "name": "python",
   "nbconvert_exporter": "python",
   "pygments_lexer": "ipython3",
   "version": "3.12.4"
  }
 },
 "nbformat": 4,
 "nbformat_minor": 2
}
