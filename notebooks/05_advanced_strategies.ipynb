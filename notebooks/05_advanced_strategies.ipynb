{
 "cells": [
  {
   "cell_type": "code",
   "execution_count": 1,
   "metadata": {},
   "outputs": [],
   "source": [
    "from utils.openai_client import OpenAIClient\n",
    "\n",
    "# Get OpenAI client instance\n",
    "client = OpenAIClient().get_client()\n",
    "\n",
    "# Example: Self-Consistency Prompting\n",
    "def self_consistency_prompt(prompt):\n",
    "    examples = [\n",
    "        {\n",
    "            \"role\": \"user\",\n",
    "            \"content\": (\n",
    "                \"Answer the following question multiple times and provide the most common answer: \\n\"\n",
    "                \"If a train travels at 60 mph for 2 hours, how far does it go?\"\n",
    "            )\n",
    "        },\n",
    "        {\n",
    "            \"role\": \"assistant\",\n",
    "            \"content\": (\n",
    "                \"Run 1: 60 mph × 2 hours = 120 miles.\\n\"\n",
    "                \"Run 2: 60 mph × 2 hours = 120 miles.\\n\"\n",
    "                \"Run 3: 60 mph × 2 hours = 120 miles.\\n\"\n",
    "                \"Final Answer: 120 miles.\"\n",
    "            )\n",
    "        },\n",
    "        {\n",
    "            \"role\": \"user\",\n",
    "            \"content\": prompt\n",
    "        }\n",
    "    ]\n",
    "    \n",
    "    response = client.chat.completions.create(\n",
    "        model=\"gpt-4\",\n",
    "        messages=examples\n",
    "    )\n",
    "    return response.choices[0].message.content\n"
   ]
  },
  {
   "cell_type": "code",
   "execution_count": 2,
   "metadata": {},
   "outputs": [
    {
     "name": "stdout",
     "output_type": "stream",
     "text": [
      "Run 1: $2/apple × 5 apples = $10.\n",
      "Run 2: $2/apple × 5 apples = $10.\n",
      "Run 3: $2/apple × 5 apples = $10.\n",
      "Final Answer: $10.\n"
     ]
    }
   ],
   "source": [
    "test_consistency = (\n",
    "    \"Answer the following question multiple times and provide the most common answer: \\n\"\n",
    "    \"If a store sells apples at $2 each and a customer buys 5 apples, how much do they pay?\"\n",
    ")\n",
    "print(self_consistency_prompt(test_consistency))"
   ]
  },
  {
   "cell_type": "code",
   "execution_count": 3,
   "metadata": {},
   "outputs": [
    {
     "name": "stdout",
     "output_type": "stream",
     "text": [
      "Diagnosis 1: Bronchitis\n",
      "Diagnosis 2: Pneumonia\n",
      "Diagnosis 3: COVID-19\n",
      "\n",
      "The most common diagnosis based on these symptoms might be Bronchitis. However, these symptoms can indicate a number of serious conditions - it's crucial to consult with a healthcare provider for a proper diagnosis and treatment.\n"
     ]
    }
   ],
   "source": [
    "test_medical_diagnosis = (\n",
    "    \"A patient reports the following symptoms multiple times: \\n\"\n",
    "    \"- Persistent cough \\n\"\n",
    "    \"- Shortness of breath \\n\"\n",
    "    \"- Mild fever \\n\"\n",
    "    \"- Fatigue \\n\"\n",
    "    \"- Occasional chest tightness \\n\"\n",
    "    \"Based on these symptoms, provide three independent diagnoses and return the most common one.\"\n",
    ")\n",
    "\n",
    "print(self_consistency_prompt(test_medical_diagnosis))"
   ]
  },
  {
   "cell_type": "code",
   "execution_count": 4,
   "metadata": {},
   "outputs": [
    {
     "name": "stdout",
     "output_type": "stream",
     "text": [
      "Diagnosis 1: Bronchitis\n",
      "Diagnosis 2: Pneumonia\n",
      "Diagnosis 3: Asthma\n",
      "Diagnosis 4: Chronic obstructive pulmonary disease (COPD)\n",
      "Diagnosis 5: COVID-19\n",
      "\n",
      "The diagnoses are unique and do not repeat, making it tricky to specify which diagnosis appears most frequently. However, all the conditions are potential diagnoses given the symptoms. Please consult a healthcare professional for accurate diagnosis.\n"
     ]
    }
   ],
   "source": [
    "test_medical_diagnosis_v2 = (\n",
    "    \"A patient reports the following symptoms multiple times: \\n\"\n",
    "    \"- Persistent cough \\n\"\n",
    "    \"- Shortness of breath \\n\"\n",
    "    \"- Mild fever \\n\"\n",
    "    \"- Fatigue \\n\"\n",
    "    \"- Occasional chest tightness \\n\"\n",
    "    \"\\nProvide 5 completely independent diagnoses based only on the symptoms. \\n\"\n",
    "    \"After that, determine which diagnosis appears most frequently.\"\n",
    ")\n",
    "\n",
    "print(self_consistency_prompt(test_medical_diagnosis_v2))\n"
   ]
  },
  {
   "cell_type": "code",
   "execution_count": 5,
   "metadata": {},
   "outputs": [
    {
     "name": "stdout",
     "output_type": "stream",
     "text": [
      "Chain-of-Thought:\n",
      "AI in healthcare can bring about improvements in various areas. \n",
      "\n",
      "1. Precision & Efficiency: AI can help process vast amounts of information quickly and well. This speed and precision can be useful for diagnoses, treatment recommendations, & patient monitoring. \n",
      "2. Predictive Analysis: By processing large amounts of health data, AI can predict disease outbreaks or identify high-risk patients.\n",
      "3. Reducing Workload: AI can automate routine tasks, cutting down the workload for healthcare professionals.\n",
      "4. Personalized Medicine: AI can aid the development of personalized treatment plans by analyzing individual health data. \n",
      "5. Medical Image Analysis: AI can analyze medical images with greater precision, helping with early detection of conditions like cancer. \n",
      "\n",
      "Few-Shot Examples:\n",
      "\n",
      "1st Example:\n",
      "Company A uses AI in production. Benefits include increased efficiency, better quality control, and lower costs, as AI reduces human error.\n",
      "\n",
      "2nd Example:\n",
      "AI in education has benefits like personalized learning, efficient administrative tasks, and predictive analysis of student performance.\n",
      "\n",
      "Similar to the above, in healthcare, the key benefits of using AI include improved precision and efficiency, predictive analysis, workload reduction for medical professionals, personalized treatments and medical image analysis.\n"
     ]
    }
   ],
   "source": [
    "test_hybrid = (\n",
    "    \"Use both Chain-of-Thought and Few-Shot examples to answer: \\n\"\n",
    "    \"What are the key benefits of using AI in healthcare?\"\n",
    ")\n",
    "print(self_consistency_prompt(test_hybrid))"
   ]
  }
 ],
 "metadata": {
  "kernelspec": {
   "display_name": "Python 3",
   "language": "python",
   "name": "python3"
  },
  "language_info": {
   "codemirror_mode": {
    "name": "ipython",
    "version": 3
   },
   "file_extension": ".py",
   "mimetype": "text/x-python",
   "name": "python",
   "nbconvert_exporter": "python",
   "pygments_lexer": "ipython3",
   "version": "3.12.4"
  }
 },
 "nbformat": 4,
 "nbformat_minor": 2
}
