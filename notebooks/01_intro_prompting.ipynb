{
 "cells": [
  {
   "cell_type": "code",
   "execution_count": 1,
   "metadata": {},
   "outputs": [],
   "source": [
    "from utils.openai_client import OpenAIClient\n",
    "\n",
    "# Get OpenAI client instance\n",
    "client = OpenAIClient().get_client()\n",
    "\n",
    "# Example: Zero-shot prompting\n",
    "def zero_shot_prompt(prompt):\n",
    "    response = client.chat.completions.create(\n",
    "        model=\"gpt-4\",\n",
    "        messages=[{\"role\": \"user\", \"content\": prompt}]\n",
    "    )\n",
    "    return response.choices[0].message.content"
   ]
  },
  {
   "cell_type": "code",
   "execution_count": 2,
   "metadata": {},
   "outputs": [
    {
     "name": "stdout",
     "output_type": "stream",
     "text": [
      "Subject: Sprint Project Status Update\n",
      "\n",
      "Dear Team,\n",
      "\n",
      "I'm pleased to report on our progress in the current software development sprint. \n",
      "\n",
      "Completed Tasks:\n",
      "1. Integration of user authentication system: Our development team has successfully integrated the user authentication system which has passed the testing phase.\n",
      "2. Debugging: All known bugs detected in the previous sprint were addressed and resolved.\n",
      "3. Performance Improvement: The speed of the software has been significantly improved by optimizing the code and reducing memory leaks.\n",
      "4. UI/UX Upgrades: The user interface has been revamped based on the feedback we got from the beta test users.\n",
      "\n",
      "Pending tasks:\n",
      "1. Testing newly implemented features: The newly added functionalities need to undergo a thorough testing process to ensure they are working optimally.\n",
      "2. Final Integration: The new features need to be integrated with the existing software and assessed for any compatibility issues.\n",
      "3. Documentation: The documentation needs to be updated with the new features, upgrades, and bug fixes performed in this sprint.\n",
      "4. Deployment to the production server: Once all checks pass, the final version needs to be deployed to the production server.\n",
      "\n",
      "As we prepare for the tasks ahead, let's continue to communicate effectively and promptly. Your dedication and hard work are instrumental in moving this project forward. \n",
      "\n",
      "Best Regards,\n",
      "\n",
      "[Your Name]\n",
      "[Your Position]\n"
     ]
    }
   ],
   "source": [
    "prompt_example = \"\"\"\n",
    "    Draft a concise project status update for a software development sprint, \n",
    "    including completed tasks and pending work.\n",
    "\"\"\"  \n",
    "print(zero_shot_prompt(prompt_example))\n"
   ]
  }
 ],
 "metadata": {
  "kernelspec": {
   "display_name": "Python 3",
   "language": "python",
   "name": "python3"
  },
  "language_info": {
   "codemirror_mode": {
    "name": "ipython",
    "version": 3
   },
   "file_extension": ".py",
   "mimetype": "text/x-python",
   "name": "python",
   "nbconvert_exporter": "python",
   "pygments_lexer": "ipython3",
   "version": "3.12.4"
  }
 },
 "nbformat": 4,
 "nbformat_minor": 2
}
